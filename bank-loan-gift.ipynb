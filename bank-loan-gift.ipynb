{
 "cells": [
  {
   "cell_type": "markdown",
   "id": "95cccf55",
   "metadata": {
    "papermill": {
     "duration": 0.005285,
     "end_time": "2025-03-21T08:47:19.695904",
     "exception": false,
     "start_time": "2025-03-21T08:47:19.690619",
     "status": "completed"
    },
    "tags": []
   },
   "source": [
    "# Libraries "
   ]
  },
  {
   "cell_type": "code",
   "execution_count": 1,
   "id": "26cbbc90",
   "metadata": {
    "_cell_guid": "b1076dfc-b9ad-4769-8c92-a6c4dae69d19",
    "_uuid": "8f2839f25d086af736a60e9eeb907d3b93b6e0e5",
    "execution": {
     "iopub.execute_input": "2025-03-21T08:47:19.710242Z",
     "iopub.status.busy": "2025-03-21T08:47:19.709805Z",
     "iopub.status.idle": "2025-03-21T08:47:25.956529Z",
     "shell.execute_reply": "2025-03-21T08:47:25.955351Z"
    },
    "papermill": {
     "duration": 6.257972,
     "end_time": "2025-03-21T08:47:25.958636",
     "exception": false,
     "start_time": "2025-03-21T08:47:19.700664",
     "status": "completed"
    },
    "tags": []
   },
   "outputs": [],
   "source": [
    "import pandas as pd \n",
    "import numpy as np \n",
    "from sklearn.preprocessing import StandardScaler\n",
    "from sklearn.model_selection import train_test_split\n",
    "from sklearn.metrics import confusion_matrix, accuracy_score, classification_report\n",
    "from sklearn import svm\n",
    "from sklearn.metrics import accuracy_score, precision_score, recall_score, f1_score, roc_auc_score, confusion_matrix\n",
    "from sklearn.linear_model import LogisticRegression\n",
    "from sklearn.ensemble import RandomForestClassifier, GradientBoostingClassifier\n",
    "from lightgbm import LGBMClassifier\n",
    "\n",
    "\n",
    "from sklearn.feature_selection import mutual_info_classif\n",
    "import matplotlib.pyplot as plt"
   ]
  },
  {
   "cell_type": "markdown",
   "id": "c30c4112",
   "metadata": {
    "papermill": {
     "duration": 0.004144,
     "end_time": "2025-03-21T08:47:25.967575",
     "exception": false,
     "start_time": "2025-03-21T08:47:25.963431",
     "status": "completed"
    },
    "tags": []
   },
   "source": [
    "# Functions"
   ]
  },
  {
   "cell_type": "code",
   "execution_count": 2,
   "id": "ab0caf8f",
   "metadata": {
    "execution": {
     "iopub.execute_input": "2025-03-21T08:47:25.978256Z",
     "iopub.status.busy": "2025-03-21T08:47:25.977506Z",
     "iopub.status.idle": "2025-03-21T08:47:25.984282Z",
     "shell.execute_reply": "2025-03-21T08:47:25.983163Z"
    },
    "papermill": {
     "duration": 0.01416,
     "end_time": "2025-03-21T08:47:25.986073",
     "exception": false,
     "start_time": "2025-03-21T08:47:25.971913",
     "status": "completed"
    },
    "tags": []
   },
   "outputs": [],
   "source": [
    "def preprocess_data(file_path, drop_cols, target_col):\n",
    "\n",
    "    # Load dataset with only necessary columns\n",
    "    df = pd.read_csv(file_path)\n",
    "    print(f'Initial Data Shape: {df.shape}')\n",
    "\n",
    "    # Drop specified columns efficiently\n",
    "    df.drop(columns=drop_cols, inplace=True, errors='ignore')\n",
    "\n",
    "    # Remove duplicate rows in place\n",
    "    print(f'Duplicate Rows: { df.duplicated().sum()}')\n",
    "    df.drop_duplicates(inplace=True)\n",
    "\n",
    "    print(f'Shape after dropping duplicates: {df.shape}')\n",
    "\n",
    "    # Standardize features \n",
    "    cols_std = [col for col in df.columns if col != target_col]\n",
    "    print(f'Num of features to standardize: {len(cols_std)}')\n",
    "\n",
    "    if cols_std:  \n",
    "        df[cols_std] = StandardScaler().fit_transform(df[cols_std])\n",
    "\n",
    "    # shuffle df\n",
    "    df = df.sample(frac=1).reset_index(drop=True)\n",
    "\n",
    "\n",
    "    return df\n"
   ]
  },
  {
   "cell_type": "code",
   "execution_count": 3,
   "id": "8a5c1cb4",
   "metadata": {
    "execution": {
     "iopub.execute_input": "2025-03-21T08:47:25.996602Z",
     "iopub.status.busy": "2025-03-21T08:47:25.996185Z",
     "iopub.status.idle": "2025-03-21T08:47:26.002685Z",
     "shell.execute_reply": "2025-03-21T08:47:26.001491Z"
    },
    "papermill": {
     "duration": 0.013978,
     "end_time": "2025-03-21T08:47:26.004733",
     "exception": false,
     "start_time": "2025-03-21T08:47:25.990755",
     "status": "completed"
    },
    "tags": []
   },
   "outputs": [],
   "source": [
    "def split_data(df, target_col, test_size=0.1, val_size=0.2):\n",
    "    X, y = df.drop(columns=[target_col]), df[target_col]\n",
    "    # split data  train val , test\n",
    "    X_train, X_test, y_train, y_test = train_test_split(X, y, test_size=test_size, \n",
    "                                                        random_state=42, stratify=y)\n",
    "    \n",
    "    X_train, X_val, y_train, y_val = train_test_split(X_train, y_train, test_size=val_size, \n",
    "                                                      random_state=42, stratify=y_train)\n",
    "\n",
    "    print(f\"Train Shape: {X_train.shape}, Validation Shape: {X_val.shape}, Test Shape: {X_test.shape}\")\n",
    "    target_sets = { \"Train\": y_train, \"Validation\": y_val, \"Test\": y_test }\n",
    "\n",
    "\n",
    "    for set_name, target in target_sets.items():\n",
    "        print(f\"\\nTarget Distribution in {set_name} Set:\")\n",
    "        print(target.value_counts(normalize=True))\n",
    "        \n",
    "    return X_train, X_val, X_test, y_train, y_val, y_test"
   ]
  },
  {
   "cell_type": "code",
   "execution_count": 4,
   "id": "8d99b1db",
   "metadata": {
    "execution": {
     "iopub.execute_input": "2025-03-21T08:47:26.015381Z",
     "iopub.status.busy": "2025-03-21T08:47:26.014910Z",
     "iopub.status.idle": "2025-03-21T08:47:26.021885Z",
     "shell.execute_reply": "2025-03-21T08:47:26.020690Z"
    },
    "papermill": {
     "duration": 0.014305,
     "end_time": "2025-03-21T08:47:26.023771",
     "exception": false,
     "start_time": "2025-03-21T08:47:26.009466",
     "status": "completed"
    },
    "tags": []
   },
   "outputs": [],
   "source": [
    "\n",
    "def evaluate_model(model, X_true, y_true):\n",
    "    \n",
    "    # predict class and probability \n",
    "    y_pred = model.predict(X_true)\n",
    "    y_pred_proba = model.predict_proba(X_true)\n",
    "    \n",
    "    # confusion matrix\n",
    "    cm = confusion_matrix(y_true, y_pred)\n",
    "    tn, fp, fn, tp = cm.ravel()\n",
    "    \n",
    "    # metrics\n",
    "    accuracy = accuracy_score(y_true, y_pred)\n",
    "    precision = precision_score(y_true, y_pred, zero_division=0)\n",
    "    recall = recall_score(y_true, y_pred, zero_division=0)\n",
    "    f1 = f1_score(y_true, y_pred, zero_division=0)\n",
    "    specificity = tn / (tn + fp) if (tn + fp) != 0 else 0  # True Negative Rate\n",
    "\n",
    "    # Store metrics in a dictionary\n",
    "    metrics_dict = {\n",
    "        \"Accuracy\": accuracy,\n",
    "        \"Precision\": precision,\n",
    "        \"Recall\": recall,\n",
    "        \"F1-Score\": f1,\n",
    "        \"Specificity\": specificity}\n",
    "      \n",
    "    print(f\"\\nConfusion Matrix:\\n{cm}\")\n",
    "    print(\"\\nEvaluation Metrics:\")\n",
    "    for key, value in metrics_dict.items():\n",
    "        if value is not None: print(f\"{key}: {value:.4f}\")\n",
    "    \n",
    "    return metrics_dict\n"
   ]
  },
  {
   "cell_type": "code",
   "execution_count": 5,
   "id": "7154a597",
   "metadata": {
    "execution": {
     "iopub.execute_input": "2025-03-21T08:47:26.034211Z",
     "iopub.status.busy": "2025-03-21T08:47:26.033757Z",
     "iopub.status.idle": "2025-03-21T08:47:26.040312Z",
     "shell.execute_reply": "2025-03-21T08:47:26.039271Z"
    },
    "papermill": {
     "duration": 0.01385,
     "end_time": "2025-03-21T08:47:26.042235",
     "exception": false,
     "start_time": "2025-03-21T08:47:26.028385",
     "status": "completed"
    },
    "tags": []
   },
   "outputs": [],
   "source": [
    "def mutual_information(df, target): \n",
    "    X, y = df.drop(columns=[target_col]), df[target_col]\n",
    "    mi_scores = mutual_info_classif(X, y)\n",
    "    feature_names = [i for i in X.columns]\n",
    "    \n",
    "    \n",
    "    # Convert to DataFrame for sorting\n",
    "    mi_df = pd.DataFrame({\"Feature\": feature_names, \"Mutual Information\": mi_scores})\n",
    "    mi_df = mi_df.sort_values(by=\"Mutual Information\", ascending=True)  # Sort for better visualization\n",
    "    \n",
    "    # Plot Horizontal Bar Chart\n",
    "    plt.figure(figsize=(10, 6))\n",
    "    plt.barh(mi_df[\"Feature\"], mi_df[\"Mutual Information\"], color=\"skyblue\")\n",
    "    plt.xlabel(\"Mutual Information Score\")\n",
    "    plt.ylabel(\"Features\")\n",
    "    plt.title(\"Mutual Information Scores for Features\")\n",
    "    plt.grid(axis=\"x\", linestyle=\"--\", alpha=0.7)\n",
    "    plt.show()"
   ]
  },
  {
   "cell_type": "code",
   "execution_count": 6,
   "id": "e6fda288",
   "metadata": {
    "execution": {
     "iopub.execute_input": "2025-03-21T08:47:26.052782Z",
     "iopub.status.busy": "2025-03-21T08:47:26.052382Z",
     "iopub.status.idle": "2025-03-21T08:47:26.058542Z",
     "shell.execute_reply": "2025-03-21T08:47:26.057353Z"
    },
    "papermill": {
     "duration": 0.013313,
     "end_time": "2025-03-21T08:47:26.060259",
     "exception": false,
     "start_time": "2025-03-21T08:47:26.046946",
     "status": "completed"
    },
    "tags": []
   },
   "outputs": [],
   "source": [
    "def main_function(df, target_col, classifiers): \n",
    "    trained_models = {}\n",
    "    print(f' {\"*\" * 20} Train Test Split {\"*\" * 20}')\n",
    "    X_train, X_val, X_test, y_train, y_val, y_test = split_data(df=df, target_col=target_col)\n",
    "    print(\"=\" * 60)\n",
    "\n",
    "    for name, classifier in classifiers.items():\n",
    "        classifier.fit(X_train, y_train)\n",
    "        trained_models[name]  = classifier\n",
    "        print(f\"\\n{classifier.__class__.__name__} Trained\")\n",
    "    \n",
    "        print(f' {\"*\" * 20} Validation Set {\"*\" * 20}')\n",
    "        evaluate_model(model = classifier, X_true=X_val, y_true=y_val)\n",
    "        print(f' {\"*\" * 20} Test Set {\"*\" * 20}')\n",
    "        evaluate_model(model = classifier, X_true = X_test, y_true=y_test)\n",
    "        print(\"=\" * 60)\n"
   ]
  },
  {
   "cell_type": "markdown",
   "id": "5ed6fcf4",
   "metadata": {
    "papermill": {
     "duration": 0.004303,
     "end_time": "2025-03-21T08:47:26.069128",
     "exception": false,
     "start_time": "2025-03-21T08:47:26.064825",
     "status": "completed"
    },
    "tags": []
   },
   "source": [
    "# Variables "
   ]
  },
  {
   "cell_type": "code",
   "execution_count": 7,
   "id": "3d9fbd51",
   "metadata": {
    "execution": {
     "iopub.execute_input": "2025-03-21T08:47:26.081134Z",
     "iopub.status.busy": "2025-03-21T08:47:26.080697Z",
     "iopub.status.idle": "2025-03-21T08:47:26.085671Z",
     "shell.execute_reply": "2025-03-21T08:47:26.084518Z"
    },
    "papermill": {
     "duration": 0.012237,
     "end_time": "2025-03-21T08:47:26.087566",
     "exception": false,
     "start_time": "2025-03-21T08:47:26.075329",
     "status": "completed"
    },
    "tags": []
   },
   "outputs": [],
   "source": [
    "file_path = '/kaggle/input/bank-personal-loan-modelling/Bank_Personal_Loan_Modelling.csv'\n",
    "drop_cols = ['ID', 'ZIP Code']\n",
    "target_col = 'Personal Loan'\n",
    "gift_cols_target = ['Income', 'CCAvg', 'CD Account', 'Education', 'Mortgage', 'Family', 'Personal Loan']\n",
    "mu_i_cols_target = ['Income', 'CCAvg', 'CD Account', 'Education', 'Mortgage', 'Family', 'CreditCard', 'Personal Loan']"
   ]
  },
  {
   "cell_type": "code",
   "execution_count": 8,
   "id": "6471279b",
   "metadata": {
    "execution": {
     "iopub.execute_input": "2025-03-21T08:47:26.098352Z",
     "iopub.status.busy": "2025-03-21T08:47:26.097887Z",
     "iopub.status.idle": "2025-03-21T08:47:26.102807Z",
     "shell.execute_reply": "2025-03-21T08:47:26.101701Z"
    },
    "papermill": {
     "duration": 0.012315,
     "end_time": "2025-03-21T08:47:26.104760",
     "exception": false,
     "start_time": "2025-03-21T08:47:26.092445",
     "status": "completed"
    },
    "tags": []
   },
   "outputs": [],
   "source": [
    "def get_classifiers():\n",
    "    return {\n",
    "        \"SVM\": svm.SVC(probability=True),\n",
    "        \"Logistic Regression\": LogisticRegression(),\n",
    "        \"Random Forest\": RandomForestClassifier(),\n",
    "        \"Gradient Boosting\": GradientBoostingClassifier(),\n",
    "        \"LightGBM\": LGBMClassifier(),\n",
    "    }"
   ]
  },
  {
   "cell_type": "markdown",
   "id": "977fe5c6",
   "metadata": {
    "papermill": {
     "duration": 0.004263,
     "end_time": "2025-03-21T08:47:26.113638",
     "exception": false,
     "start_time": "2025-03-21T08:47:26.109375",
     "status": "completed"
    },
    "tags": []
   },
   "source": [
    "# Main "
   ]
  },
  {
   "cell_type": "markdown",
   "id": "b4ee5ec5",
   "metadata": {
    "papermill": {
     "duration": 0.004402,
     "end_time": "2025-03-21T08:47:26.122815",
     "exception": false,
     "start_time": "2025-03-21T08:47:26.118413",
     "status": "completed"
    },
    "tags": []
   },
   "source": [
    "**Preprocessing**"
   ]
  },
  {
   "cell_type": "code",
   "execution_count": 9,
   "id": "93e15854",
   "metadata": {
    "execution": {
     "iopub.execute_input": "2025-03-21T08:47:26.133575Z",
     "iopub.status.busy": "2025-03-21T08:47:26.133073Z",
     "iopub.status.idle": "2025-03-21T08:47:26.219477Z",
     "shell.execute_reply": "2025-03-21T08:47:26.217658Z"
    },
    "papermill": {
     "duration": 0.094014,
     "end_time": "2025-03-21T08:47:26.221538",
     "exception": false,
     "start_time": "2025-03-21T08:47:26.127524",
     "status": "completed"
    },
    "tags": []
   },
   "outputs": [
    {
     "name": "stdout",
     "output_type": "stream",
     "text": [
      "Initial Data Shape: (5000, 14)\n",
      "Duplicate Rows: 13\n",
      "Shape after dropping duplicates: (4987, 12)\n",
      "Num of features to standardize: 11\n"
     ]
    }
   ],
   "source": [
    "df_pre_processed  = preprocess_data(file_path=file_path, \n",
    "                drop_cols=drop_cols, \n",
    "                target_col=target_col)"
   ]
  },
  {
   "cell_type": "code",
   "execution_count": 10,
   "id": "0a35c73e",
   "metadata": {
    "execution": {
     "iopub.execute_input": "2025-03-21T08:47:26.232510Z",
     "iopub.status.busy": "2025-03-21T08:47:26.232002Z",
     "iopub.status.idle": "2025-03-21T08:47:26.238590Z",
     "shell.execute_reply": "2025-03-21T08:47:26.237394Z"
    },
    "papermill": {
     "duration": 0.014285,
     "end_time": "2025-03-21T08:47:26.240636",
     "exception": false,
     "start_time": "2025-03-21T08:47:26.226351",
     "status": "completed"
    },
    "tags": []
   },
   "outputs": [
    {
     "name": "stdout",
     "output_type": "stream",
     "text": [
      "GIFT cols: (4987, 7)\n"
     ]
    }
   ],
   "source": [
    "df_gift = df_pre_processed[gift_cols_target]\n",
    "print(f'GIFT cols: {df_gift.shape}')"
   ]
  },
  {
   "cell_type": "code",
   "execution_count": 11,
   "id": "be9e64e7",
   "metadata": {
    "execution": {
     "iopub.execute_input": "2025-03-21T08:47:26.252175Z",
     "iopub.status.busy": "2025-03-21T08:47:26.251743Z",
     "iopub.status.idle": "2025-03-21T08:47:26.258763Z",
     "shell.execute_reply": "2025-03-21T08:47:26.257521Z"
    },
    "papermill": {
     "duration": 0.014798,
     "end_time": "2025-03-21T08:47:26.260776",
     "exception": false,
     "start_time": "2025-03-21T08:47:26.245978",
     "status": "completed"
    },
    "tags": []
   },
   "outputs": [
    {
     "name": "stdout",
     "output_type": "stream",
     "text": [
      "GIFT cols: (4987, 8)\n"
     ]
    }
   ],
   "source": [
    "df_mui = df_pre_processed[mu_i_cols_target]\n",
    "print(f'GIFT cols: {df_mui.shape}')"
   ]
  },
  {
   "cell_type": "markdown",
   "id": "d6474e6a",
   "metadata": {
    "papermill": {
     "duration": 0.004858,
     "end_time": "2025-03-21T08:47:26.270493",
     "exception": false,
     "start_time": "2025-03-21T08:47:26.265635",
     "status": "completed"
    },
    "tags": []
   },
   "source": [
    "## **ML models withOUT feature selection**"
   ]
  },
  {
   "cell_type": "code",
   "execution_count": 12,
   "id": "53c39707",
   "metadata": {
    "execution": {
     "iopub.execute_input": "2025-03-21T08:47:26.281695Z",
     "iopub.status.busy": "2025-03-21T08:47:26.281250Z",
     "iopub.status.idle": "2025-03-21T08:47:28.102810Z",
     "shell.execute_reply": "2025-03-21T08:47:28.101641Z"
    },
    "papermill": {
     "duration": 1.829383,
     "end_time": "2025-03-21T08:47:28.104843",
     "exception": false,
     "start_time": "2025-03-21T08:47:26.275460",
     "status": "completed"
    },
    "tags": []
   },
   "outputs": [
    {
     "name": "stdout",
     "output_type": "stream",
     "text": [
      " ******************** Train Test Split ********************\n",
      "Train Shape: (3590, 11), Validation Shape: (898, 11), Test Shape: (499, 11)\n",
      "\n",
      "Target Distribution in Train Set:\n",
      "Personal Loan\n",
      "0    0.903621\n",
      "1    0.096379\n",
      "Name: proportion, dtype: float64\n",
      "\n",
      "Target Distribution in Validation Set:\n",
      "Personal Loan\n",
      "0    0.904232\n",
      "1    0.095768\n",
      "Name: proportion, dtype: float64\n",
      "\n",
      "Target Distribution in Test Set:\n",
      "Personal Loan\n",
      "0    0.903808\n",
      "1    0.096192\n",
      "Name: proportion, dtype: float64\n",
      "============================================================\n",
      "\n",
      "SVC Trained\n",
      " ******************** Validation Set ********************\n",
      "\n",
      "Confusion Matrix:\n",
      "[[810   2]\n",
      " [ 19  67]]\n",
      "\n",
      "Evaluation Metrics:\n",
      "Accuracy: 0.9766\n",
      "Precision: 0.9710\n",
      "Recall: 0.7791\n",
      "F1-Score: 0.8645\n",
      "Specificity: 0.9975\n",
      " ******************** Test Set ********************\n",
      "\n",
      "Confusion Matrix:\n",
      "[[451   0]\n",
      " [ 13  35]]\n",
      "\n",
      "Evaluation Metrics:\n",
      "Accuracy: 0.9739\n",
      "Precision: 1.0000\n",
      "Recall: 0.7292\n",
      "F1-Score: 0.8434\n",
      "Specificity: 1.0000\n",
      "============================================================\n",
      "\n",
      "LogisticRegression Trained\n",
      " ******************** Validation Set ********************\n",
      "\n",
      "Confusion Matrix:\n",
      "[[799  13]\n",
      " [ 33  53]]\n",
      "\n",
      "Evaluation Metrics:\n",
      "Accuracy: 0.9488\n",
      "Precision: 0.8030\n",
      "Recall: 0.6163\n",
      "F1-Score: 0.6974\n",
      "Specificity: 0.9840\n",
      " ******************** Test Set ********************\n",
      "\n",
      "Confusion Matrix:\n",
      "[[446   5]\n",
      " [ 18  30]]\n",
      "\n",
      "Evaluation Metrics:\n",
      "Accuracy: 0.9539\n",
      "Precision: 0.8571\n",
      "Recall: 0.6250\n",
      "F1-Score: 0.7229\n",
      "Specificity: 0.9889\n",
      "============================================================\n",
      "\n",
      "RandomForestClassifier Trained\n",
      " ******************** Validation Set ********************\n",
      "\n",
      "Confusion Matrix:\n",
      "[[812   0]\n",
      " [  7  79]]\n",
      "\n",
      "Evaluation Metrics:\n",
      "Accuracy: 0.9922\n",
      "Precision: 1.0000\n",
      "Recall: 0.9186\n",
      "F1-Score: 0.9576\n",
      "Specificity: 1.0000\n",
      " ******************** Test Set ********************\n",
      "\n",
      "Confusion Matrix:\n",
      "[[451   0]\n",
      " [  8  40]]\n",
      "\n",
      "Evaluation Metrics:\n",
      "Accuracy: 0.9840\n",
      "Precision: 1.0000\n",
      "Recall: 0.8333\n",
      "F1-Score: 0.9091\n",
      "Specificity: 1.0000\n",
      "============================================================\n",
      "\n",
      "GradientBoostingClassifier Trained\n",
      " ******************** Validation Set ********************\n",
      "\n",
      "Confusion Matrix:\n",
      "[[807   5]\n",
      " [  6  80]]\n",
      "\n",
      "Evaluation Metrics:\n",
      "Accuracy: 0.9878\n",
      "Precision: 0.9412\n",
      "Recall: 0.9302\n",
      "F1-Score: 0.9357\n",
      "Specificity: 0.9938\n",
      " ******************** Test Set ********************\n",
      "\n",
      "Confusion Matrix:\n",
      "[[448   3]\n",
      " [  4  44]]\n",
      "\n",
      "Evaluation Metrics:\n",
      "Accuracy: 0.9860\n",
      "Precision: 0.9362\n",
      "Recall: 0.9167\n",
      "F1-Score: 0.9263\n",
      "Specificity: 0.9933\n",
      "============================================================\n",
      "[LightGBM] [Warning] Found whitespace in feature_names, replace with underlines\n",
      "[LightGBM] [Info] Number of positive: 346, number of negative: 3244\n",
      "[LightGBM] [Info] Auto-choosing row-wise multi-threading, the overhead of testing was 0.003779 seconds.\n",
      "You can set `force_row_wise=true` to remove the overhead.\n",
      "And if memory is not enough, you can set `force_col_wise=true`.\n",
      "[LightGBM] [Info] Total Bins 614\n",
      "[LightGBM] [Info] Number of data points in the train set: 3590, number of used features: 11\n",
      "[LightGBM] [Info] [binary:BoostFromScore]: pavg=0.096379 -> initscore=-2.238124\n",
      "[LightGBM] [Info] Start training from score -2.238124\n",
      "[LightGBM] [Warning] No further splits with positive gain, best gain: -inf\n",
      "[LightGBM] [Warning] No further splits with positive gain, best gain: -inf\n",
      "[LightGBM] [Warning] No further splits with positive gain, best gain: -inf\n",
      "[LightGBM] [Warning] No further splits with positive gain, best gain: -inf\n",
      "[LightGBM] [Warning] No further splits with positive gain, best gain: -inf\n",
      "[LightGBM] [Warning] No further splits with positive gain, best gain: -inf\n",
      "[LightGBM] [Warning] No further splits with positive gain, best gain: -inf\n",
      "[LightGBM] [Warning] No further splits with positive gain, best gain: -inf\n",
      "[LightGBM] [Warning] No further splits with positive gain, best gain: -inf\n",
      "[LightGBM] [Warning] No further splits with positive gain, best gain: -inf\n",
      "[LightGBM] [Warning] No further splits with positive gain, best gain: -inf\n",
      "[LightGBM] [Warning] No further splits with positive gain, best gain: -inf\n",
      "[LightGBM] [Warning] No further splits with positive gain, best gain: -inf\n",
      "[LightGBM] [Warning] No further splits with positive gain, best gain: -inf\n",
      "[LightGBM] [Warning] No further splits with positive gain, best gain: -inf\n",
      "[LightGBM] [Warning] No further splits with positive gain, best gain: -inf\n",
      "[LightGBM] [Warning] No further splits with positive gain, best gain: -inf\n",
      "[LightGBM] [Warning] No further splits with positive gain, best gain: -inf\n",
      "[LightGBM] [Warning] No further splits with positive gain, best gain: -inf\n",
      "\n",
      "LGBMClassifier Trained\n",
      " ******************** Validation Set ********************\n",
      "\n",
      "Confusion Matrix:\n",
      "[[810   2]\n",
      " [  7  79]]\n",
      "\n",
      "Evaluation Metrics:\n",
      "Accuracy: 0.9900\n",
      "Precision: 0.9753\n",
      "Recall: 0.9186\n",
      "F1-Score: 0.9461\n",
      "Specificity: 0.9975\n",
      " ******************** Test Set ********************\n",
      "\n",
      "Confusion Matrix:\n",
      "[[448   3]\n",
      " [  6  42]]\n",
      "\n",
      "Evaluation Metrics:\n",
      "Accuracy: 0.9820\n",
      "Precision: 0.9333\n",
      "Recall: 0.8750\n",
      "F1-Score: 0.9032\n",
      "Specificity: 0.9933\n",
      "============================================================\n"
     ]
    }
   ],
   "source": [
    "classifiers = get_classifiers()\n",
    "main_function(df=df_pre_processed, target_col = target_col, classifiers=classifiers)"
   ]
  },
  {
   "cell_type": "markdown",
   "id": "52f909eb",
   "metadata": {
    "papermill": {
     "duration": 0.004751,
     "end_time": "2025-03-21T08:47:28.115549",
     "exception": false,
     "start_time": "2025-03-21T08:47:28.110798",
     "status": "completed"
    },
    "tags": []
   },
   "source": [
    "## **ML models with feature selection -- Mutual Infrmation**"
   ]
  },
  {
   "cell_type": "code",
   "execution_count": 13,
   "id": "975d8f37",
   "metadata": {
    "execution": {
     "iopub.execute_input": "2025-03-21T08:47:28.127060Z",
     "iopub.status.busy": "2025-03-21T08:47:28.126642Z",
     "iopub.status.idle": "2025-03-21T08:47:29.560447Z",
     "shell.execute_reply": "2025-03-21T08:47:29.559003Z"
    },
    "papermill": {
     "duration": 1.441803,
     "end_time": "2025-03-21T08:47:29.562360",
     "exception": false,
     "start_time": "2025-03-21T08:47:28.120557",
     "status": "completed"
    },
    "tags": []
   },
   "outputs": [
    {
     "name": "stdout",
     "output_type": "stream",
     "text": [
      " ******************** Train Test Split ********************\n",
      "Train Shape: (3590, 7), Validation Shape: (898, 7), Test Shape: (499, 7)\n",
      "\n",
      "Target Distribution in Train Set:\n",
      "Personal Loan\n",
      "0    0.903621\n",
      "1    0.096379\n",
      "Name: proportion, dtype: float64\n",
      "\n",
      "Target Distribution in Validation Set:\n",
      "Personal Loan\n",
      "0    0.904232\n",
      "1    0.095768\n",
      "Name: proportion, dtype: float64\n",
      "\n",
      "Target Distribution in Test Set:\n",
      "Personal Loan\n",
      "0    0.903808\n",
      "1    0.096192\n",
      "Name: proportion, dtype: float64\n",
      "============================================================\n",
      "\n",
      "SVC Trained\n",
      " ******************** Validation Set ********************\n",
      "\n",
      "Confusion Matrix:\n",
      "[[809   3]\n",
      " [ 13  73]]\n",
      "\n",
      "Evaluation Metrics:\n",
      "Accuracy: 0.9822\n",
      "Precision: 0.9605\n",
      "Recall: 0.8488\n",
      "F1-Score: 0.9012\n",
      "Specificity: 0.9963\n",
      " ******************** Test Set ********************\n",
      "\n",
      "Confusion Matrix:\n",
      "[[450   1]\n",
      " [  9  39]]\n",
      "\n",
      "Evaluation Metrics:\n",
      "Accuracy: 0.9800\n",
      "Precision: 0.9750\n",
      "Recall: 0.8125\n",
      "F1-Score: 0.8864\n",
      "Specificity: 0.9978\n",
      "============================================================\n",
      "\n",
      "LogisticRegression Trained\n",
      " ******************** Validation Set ********************\n",
      "\n",
      "Confusion Matrix:\n",
      "[[800  12]\n",
      " [ 31  55]]\n",
      "\n",
      "Evaluation Metrics:\n",
      "Accuracy: 0.9521\n",
      "Precision: 0.8209\n",
      "Recall: 0.6395\n",
      "F1-Score: 0.7190\n",
      "Specificity: 0.9852\n",
      " ******************** Test Set ********************\n",
      "\n",
      "Confusion Matrix:\n",
      "[[447   4]\n",
      " [ 18  30]]\n",
      "\n",
      "Evaluation Metrics:\n",
      "Accuracy: 0.9559\n",
      "Precision: 0.8824\n",
      "Recall: 0.6250\n",
      "F1-Score: 0.7317\n",
      "Specificity: 0.9911\n",
      "============================================================\n",
      "\n",
      "RandomForestClassifier Trained\n",
      " ******************** Validation Set ********************\n",
      "\n",
      "Confusion Matrix:\n",
      "[[811   1]\n",
      " [  8  78]]\n",
      "\n",
      "Evaluation Metrics:\n",
      "Accuracy: 0.9900\n",
      "Precision: 0.9873\n",
      "Recall: 0.9070\n",
      "F1-Score: 0.9455\n",
      "Specificity: 0.9988\n",
      " ******************** Test Set ********************\n",
      "\n",
      "Confusion Matrix:\n",
      "[[450   1]\n",
      " [  5  43]]\n",
      "\n",
      "Evaluation Metrics:\n",
      "Accuracy: 0.9880\n",
      "Precision: 0.9773\n",
      "Recall: 0.8958\n",
      "F1-Score: 0.9348\n",
      "Specificity: 0.9978\n",
      "============================================================\n",
      "\n",
      "GradientBoostingClassifier Trained\n",
      " ******************** Validation Set ********************\n",
      "\n",
      "Confusion Matrix:\n",
      "[[807   5]\n",
      " [  6  80]]\n",
      "\n",
      "Evaluation Metrics:\n",
      "Accuracy: 0.9878\n",
      "Precision: 0.9412\n",
      "Recall: 0.9302\n",
      "F1-Score: 0.9357\n",
      "Specificity: 0.9938\n",
      " ******************** Test Set ********************\n",
      "\n",
      "Confusion Matrix:\n",
      "[[447   4]\n",
      " [  4  44]]\n",
      "\n",
      "Evaluation Metrics:\n",
      "Accuracy: 0.9840\n",
      "Precision: 0.9167\n",
      "Recall: 0.9167\n",
      "F1-Score: 0.9167\n",
      "Specificity: 0.9911\n",
      "============================================================\n",
      "[LightGBM] [Warning] Found whitespace in feature_names, replace with underlines\n",
      "[LightGBM] [Info] Number of positive: 346, number of negative: 3244\n",
      "[LightGBM] [Info] Auto-choosing row-wise multi-threading, the overhead of testing was 0.000202 seconds.\n",
      "You can set `force_row_wise=true` to remove the overhead.\n",
      "And if memory is not enough, you can set `force_col_wise=true`.\n",
      "[LightGBM] [Info] Total Bins 514\n",
      "[LightGBM] [Info] Number of data points in the train set: 3590, number of used features: 7\n",
      "[LightGBM] [Info] [binary:BoostFromScore]: pavg=0.096379 -> initscore=-2.238124\n",
      "[LightGBM] [Info] Start training from score -2.238124\n",
      "[LightGBM] [Warning] No further splits with positive gain, best gain: -inf\n",
      "[LightGBM] [Warning] No further splits with positive gain, best gain: -inf\n",
      "[LightGBM] [Warning] No further splits with positive gain, best gain: -inf\n",
      "[LightGBM] [Warning] No further splits with positive gain, best gain: -inf\n",
      "[LightGBM] [Warning] No further splits with positive gain, best gain: -inf\n",
      "[LightGBM] [Warning] No further splits with positive gain, best gain: -inf\n",
      "[LightGBM] [Warning] No further splits with positive gain, best gain: -inf\n",
      "[LightGBM] [Warning] No further splits with positive gain, best gain: -inf\n",
      "[LightGBM] [Warning] No further splits with positive gain, best gain: -inf\n",
      "[LightGBM] [Warning] No further splits with positive gain, best gain: -inf\n",
      "[LightGBM] [Warning] No further splits with positive gain, best gain: -inf\n",
      "[LightGBM] [Warning] No further splits with positive gain, best gain: -inf\n",
      "[LightGBM] [Warning] No further splits with positive gain, best gain: -inf\n",
      "[LightGBM] [Warning] No further splits with positive gain, best gain: -inf\n",
      "[LightGBM] [Warning] No further splits with positive gain, best gain: -inf\n",
      "[LightGBM] [Warning] No further splits with positive gain, best gain: -inf\n",
      "[LightGBM] [Warning] No further splits with positive gain, best gain: -inf\n",
      "[LightGBM] [Warning] No further splits with positive gain, best gain: -inf\n",
      "[LightGBM] [Warning] No further splits with positive gain, best gain: -inf\n",
      "\n",
      "LGBMClassifier Trained\n",
      " ******************** Validation Set ********************\n",
      "\n",
      "Confusion Matrix:\n",
      "[[806   6]\n",
      " [  8  78]]\n",
      "\n",
      "Evaluation Metrics:\n",
      "Accuracy: 0.9844\n",
      "Precision: 0.9286\n",
      "Recall: 0.9070\n",
      "F1-Score: 0.9176\n",
      "Specificity: 0.9926\n",
      " ******************** Test Set ********************\n",
      "\n",
      "Confusion Matrix:\n",
      "[[448   3]\n",
      " [  3  45]]\n",
      "\n",
      "Evaluation Metrics:\n",
      "Accuracy: 0.9880\n",
      "Precision: 0.9375\n",
      "Recall: 0.9375\n",
      "F1-Score: 0.9375\n",
      "Specificity: 0.9933\n",
      "============================================================\n"
     ]
    }
   ],
   "source": [
    "classifiers_gift = get_classifiers() \n",
    "main_function(df=df_mui, target_col = target_col, classifiers=classifiers_gift)"
   ]
  },
  {
   "cell_type": "markdown",
   "id": "38d64967",
   "metadata": {
    "papermill": {
     "duration": 0.005248,
     "end_time": "2025-03-21T08:47:29.573296",
     "exception": false,
     "start_time": "2025-03-21T08:47:29.568048",
     "status": "completed"
    },
    "tags": []
   },
   "source": [
    "## **ML models with feature selection -- GIFT**"
   ]
  },
  {
   "cell_type": "code",
   "execution_count": 14,
   "id": "0711ece1",
   "metadata": {
    "execution": {
     "iopub.execute_input": "2025-03-21T08:47:29.585619Z",
     "iopub.status.busy": "2025-03-21T08:47:29.585209Z",
     "iopub.status.idle": "2025-03-21T08:47:30.932784Z",
     "shell.execute_reply": "2025-03-21T08:47:30.931214Z"
    },
    "papermill": {
     "duration": 1.356025,
     "end_time": "2025-03-21T08:47:30.934842",
     "exception": false,
     "start_time": "2025-03-21T08:47:29.578817",
     "status": "completed"
    },
    "tags": []
   },
   "outputs": [
    {
     "name": "stdout",
     "output_type": "stream",
     "text": [
      " ******************** Train Test Split ********************\n",
      "Train Shape: (3590, 6), Validation Shape: (898, 6), Test Shape: (499, 6)\n",
      "\n",
      "Target Distribution in Train Set:\n",
      "Personal Loan\n",
      "0    0.903621\n",
      "1    0.096379\n",
      "Name: proportion, dtype: float64\n",
      "\n",
      "Target Distribution in Validation Set:\n",
      "Personal Loan\n",
      "0    0.904232\n",
      "1    0.095768\n",
      "Name: proportion, dtype: float64\n",
      "\n",
      "Target Distribution in Test Set:\n",
      "Personal Loan\n",
      "0    0.903808\n",
      "1    0.096192\n",
      "Name: proportion, dtype: float64\n",
      "============================================================\n",
      "\n",
      "SVC Trained\n",
      " ******************** Validation Set ********************\n",
      "\n",
      "Confusion Matrix:\n",
      "[[811   1]\n",
      " [ 12  74]]\n",
      "\n",
      "Evaluation Metrics:\n",
      "Accuracy: 0.9855\n",
      "Precision: 0.9867\n",
      "Recall: 0.8605\n",
      "F1-Score: 0.9193\n",
      "Specificity: 0.9988\n",
      " ******************** Test Set ********************\n",
      "\n",
      "Confusion Matrix:\n",
      "[[448   3]\n",
      " [  9  39]]\n",
      "\n",
      "Evaluation Metrics:\n",
      "Accuracy: 0.9760\n",
      "Precision: 0.9286\n",
      "Recall: 0.8125\n",
      "F1-Score: 0.8667\n",
      "Specificity: 0.9933\n",
      "============================================================\n",
      "\n",
      "LogisticRegression Trained\n",
      " ******************** Validation Set ********************\n",
      "\n",
      "Confusion Matrix:\n",
      "[[798  14]\n",
      " [ 34  52]]\n",
      "\n",
      "Evaluation Metrics:\n",
      "Accuracy: 0.9465\n",
      "Precision: 0.7879\n",
      "Recall: 0.6047\n",
      "F1-Score: 0.6842\n",
      "Specificity: 0.9828\n",
      " ******************** Test Set ********************\n",
      "\n",
      "Confusion Matrix:\n",
      "[[447   4]\n",
      " [ 20  28]]\n",
      "\n",
      "Evaluation Metrics:\n",
      "Accuracy: 0.9519\n",
      "Precision: 0.8750\n",
      "Recall: 0.5833\n",
      "F1-Score: 0.7000\n",
      "Specificity: 0.9911\n",
      "============================================================\n",
      "\n",
      "RandomForestClassifier Trained\n",
      " ******************** Validation Set ********************\n",
      "\n",
      "Confusion Matrix:\n",
      "[[812   0]\n",
      " [  6  80]]\n",
      "\n",
      "Evaluation Metrics:\n",
      "Accuracy: 0.9933\n",
      "Precision: 1.0000\n",
      "Recall: 0.9302\n",
      "F1-Score: 0.9639\n",
      "Specificity: 1.0000\n",
      " ******************** Test Set ********************\n",
      "\n",
      "Confusion Matrix:\n",
      "[[451   0]\n",
      " [  5  43]]\n",
      "\n",
      "Evaluation Metrics:\n",
      "Accuracy: 0.9900\n",
      "Precision: 1.0000\n",
      "Recall: 0.8958\n",
      "F1-Score: 0.9451\n",
      "Specificity: 1.0000\n",
      "============================================================\n",
      "\n",
      "GradientBoostingClassifier Trained\n",
      " ******************** Validation Set ********************\n",
      "\n",
      "Confusion Matrix:\n",
      "[[807   5]\n",
      " [  6  80]]\n",
      "\n",
      "Evaluation Metrics:\n",
      "Accuracy: 0.9878\n",
      "Precision: 0.9412\n",
      "Recall: 0.9302\n",
      "F1-Score: 0.9357\n",
      "Specificity: 0.9938\n",
      " ******************** Test Set ********************\n",
      "\n",
      "Confusion Matrix:\n",
      "[[447   4]\n",
      " [  4  44]]\n",
      "\n",
      "Evaluation Metrics:\n",
      "Accuracy: 0.9840\n",
      "Precision: 0.9167\n",
      "Recall: 0.9167\n",
      "F1-Score: 0.9167\n",
      "Specificity: 0.9911\n",
      "============================================================\n",
      "[LightGBM] [Warning] Found whitespace in feature_names, replace with underlines\n",
      "[LightGBM] [Info] Number of positive: 346, number of negative: 3244\n",
      "[LightGBM] [Info] Auto-choosing row-wise multi-threading, the overhead of testing was 0.000066 seconds.\n",
      "You can set `force_row_wise=true` to remove the overhead.\n",
      "And if memory is not enough, you can set `force_col_wise=true`.\n",
      "[LightGBM] [Info] Total Bins 511\n",
      "[LightGBM] [Info] Number of data points in the train set: 3590, number of used features: 6\n",
      "[LightGBM] [Info] [binary:BoostFromScore]: pavg=0.096379 -> initscore=-2.238124\n",
      "[LightGBM] [Info] Start training from score -2.238124\n",
      "[LightGBM] [Warning] No further splits with positive gain, best gain: -inf\n",
      "[LightGBM] [Warning] No further splits with positive gain, best gain: -inf\n",
      "[LightGBM] [Warning] No further splits with positive gain, best gain: -inf\n",
      "[LightGBM] [Warning] No further splits with positive gain, best gain: -inf\n",
      "[LightGBM] [Warning] No further splits with positive gain, best gain: -inf\n",
      "[LightGBM] [Warning] No further splits with positive gain, best gain: -inf\n",
      "[LightGBM] [Warning] No further splits with positive gain, best gain: -inf\n",
      "[LightGBM] [Warning] No further splits with positive gain, best gain: -inf\n",
      "[LightGBM] [Warning] No further splits with positive gain, best gain: -inf\n",
      "[LightGBM] [Warning] No further splits with positive gain, best gain: -inf\n",
      "[LightGBM] [Warning] No further splits with positive gain, best gain: -inf\n",
      "[LightGBM] [Warning] No further splits with positive gain, best gain: -inf\n",
      "[LightGBM] [Warning] No further splits with positive gain, best gain: -inf\n",
      "[LightGBM] [Warning] No further splits with positive gain, best gain: -inf\n",
      "[LightGBM] [Warning] No further splits with positive gain, best gain: -inf\n",
      "[LightGBM] [Warning] No further splits with positive gain, best gain: -inf\n",
      "[LightGBM] [Warning] No further splits with positive gain, best gain: -inf\n",
      "[LightGBM] [Warning] No further splits with positive gain, best gain: -inf\n",
      "\n",
      "LGBMClassifier Trained\n",
      " ******************** Validation Set ********************\n",
      "\n",
      "Confusion Matrix:\n",
      "[[807   5]\n",
      " [ 10  76]]\n",
      "\n",
      "Evaluation Metrics:\n",
      "Accuracy: 0.9833\n",
      "Precision: 0.9383\n",
      "Recall: 0.8837\n",
      "F1-Score: 0.9102\n",
      "Specificity: 0.9938\n",
      " ******************** Test Set ********************\n",
      "\n",
      "Confusion Matrix:\n",
      "[[447   4]\n",
      " [  4  44]]\n",
      "\n",
      "Evaluation Metrics:\n",
      "Accuracy: 0.9840\n",
      "Precision: 0.9167\n",
      "Recall: 0.9167\n",
      "F1-Score: 0.9167\n",
      "Specificity: 0.9911\n",
      "============================================================\n"
     ]
    }
   ],
   "source": [
    "classifiers_mi = get_classifiers()\n",
    "main_function(df=df_gift, target_col = target_col, classifiers=classifiers_mi)"
   ]
  }
 ],
 "metadata": {
  "kaggle": {
   "accelerator": "none",
   "dataSources": [
    {
     "datasetId": 608073,
     "sourceId": 1089480,
     "sourceType": "datasetVersion"
    }
   ],
   "dockerImageVersionId": 30918,
   "isGpuEnabled": false,
   "isInternetEnabled": true,
   "language": "python",
   "sourceType": "notebook"
  },
  "kernelspec": {
   "display_name": "Python 3",
   "language": "python",
   "name": "python3"
  },
  "language_info": {
   "codemirror_mode": {
    "name": "ipython",
    "version": 3
   },
   "file_extension": ".py",
   "mimetype": "text/x-python",
   "name": "python",
   "nbconvert_exporter": "python",
   "pygments_lexer": "ipython3",
   "version": "3.10.12"
  },
  "papermill": {
   "default_parameters": {},
   "duration": 15.154817,
   "end_time": "2025-03-21T08:47:31.964413",
   "environment_variables": {},
   "exception": null,
   "input_path": "__notebook__.ipynb",
   "output_path": "__notebook__.ipynb",
   "parameters": {},
   "start_time": "2025-03-21T08:47:16.809596",
   "version": "2.6.0"
  }
 },
 "nbformat": 4,
 "nbformat_minor": 5
}
